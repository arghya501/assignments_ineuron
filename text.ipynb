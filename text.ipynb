{
 "cells": [
  {
   "cell_type": "code",
   "execution_count": null,
   "id": "b87827e0",
   "metadata": {},
   "outputs": [],
   "source": [
    "1. In the below elements which of them are values or an expression? eg:- values can be integer or string and expressions will be mathematical operators.\n",
    "* \n",
    "'hello'\n",
    "-87.8\n",
    "- \n",
    "/ \n",
    "+\n",
    "6 \n",
    "\n",
    "ans: \n",
    "    Value: 'hello'\n",
    "        6\n",
    "\n",
    "    Expression: *,-,+,/,\n",
    "                -87.8"
   ]
  },
  {
   "cell_type": "code",
   "execution_count": null,
   "id": "29b19785",
   "metadata": {},
   "outputs": [],
   "source": [
    "2. What is the difference between string and variable?\n",
    "\n",
    "ans: Variable can store a datatype like int,float,string. Whereas String itself a datatype.\n",
    "    var='Arghya'\n",
    "    \n",
    "    here var is the variable name, and 'Arghya' is a string.\n",
    "    type(var) will give what type of data variable var stors."
   ]
  },
  {
   "cell_type": "code",
   "execution_count": null,
   "id": "a7617e74",
   "metadata": {},
   "outputs": [],
   "source": [
    "3. Describe three different data types.\n",
    "\n",
    "ans: 1.int type datatype: a= 0, b= 100, c= -10\n",
    "    2. float type datatype: a=0.01, b=3.89, c= -134.02"
   ]
  },
  {
   "cell_type": "code",
   "execution_count": null,
   "id": "37987d2f",
   "metadata": {},
   "outputs": [],
   "source": [
    "4. What is an expression made up of? What do all expressions do?\n",
    "\n",
    "ans: Expression made up with operators and operand and it express a mathametical form or equation\n",
    "    eg. a= 10\n",
    "        b= 4\n",
    "        c= a+a/2-b\n",
    "        \n",
    "        a,b,c are operands.\n",
    "        +,/,- are operator.\n",
    "        c= a+a/2-b is a expression."
   ]
  },
  {
   "cell_type": "code",
   "execution_count": null,
   "id": "4c7276da",
   "metadata": {},
   "outputs": [],
   "source": [
    "5. This assignment statements, like spam = 10. What is the difference between an expression and a statement?\n",
    "\n",
    "ans: Expression always returns a value, like functions return value even non returning functions return some value.\n",
    "Whereas Ststements cant return values.Cannot print any result\n",
    "Examples Of Python Statements: Assignment statements, conditional branching, loops, classes, import, def, try, except, pass, del etc."
   ]
  },
  {
   "cell_type": "code",
   "execution_count": null,
   "id": "d8e9d900",
   "metadata": {},
   "outputs": [],
   "source": [
    "6. After running the following code, what does the variable bacon contain?\n",
    "bacon = 22\n",
    "bacon + 1\n",
    "\n",
    "ans:\n",
    "    Output: 22."
   ]
  },
  {
   "cell_type": "code",
   "execution_count": null,
   "id": "46cf3a93",
   "metadata": {},
   "outputs": [],
   "source": [
    "7. What should the values of the following two terms be?\n",
    "'spam' + 'spamspam'\n",
    "'spam' * 3\n",
    "\n",
    "ans:\n",
    "    output: 'spamspamspam'\n",
    "        'spamspamspam'"
   ]
  },
  {
   "cell_type": "code",
   "execution_count": 6,
   "id": "5a074cf0",
   "metadata": {},
   "outputs": [
    {
     "data": {
      "text/plain": [
       "'spamspamspam'"
      ]
     },
     "execution_count": 6,
     "metadata": {},
     "output_type": "execute_result"
    }
   ],
   "source": [
    "'spam' + 'spamspam'\n"
   ]
  },
  {
   "cell_type": "code",
   "execution_count": 7,
   "id": "cd48a78c",
   "metadata": {},
   "outputs": [
    {
     "data": {
      "text/plain": [
       "'spamspamspam'"
      ]
     },
     "execution_count": 7,
     "metadata": {},
     "output_type": "execute_result"
    }
   ],
   "source": [
    "'spam' * 3"
   ]
  },
  {
   "cell_type": "code",
   "execution_count": null,
   "id": "5afbdb1f",
   "metadata": {},
   "outputs": [],
   "source": [
    "Why is eggs a valid variable name while 100 is invalid?\n",
    "\n",
    "ans: A variable name can not be start with a number thats why 100 can't be a variable name.\n",
    "    A variable name must start with a letter or the underscore character."
   ]
  },
  {
   "cell_type": "code",
   "execution_count": null,
   "id": "5ce714f6",
   "metadata": {},
   "outputs": [],
   "source": [
    "9. What three functions can be used to get the integer, floating-point number, or string version of a value?\n",
    "\n",
    "ans: int() , float() , and str( ) functions will work."
   ]
  },
  {
   "cell_type": "code",
   "execution_count": 22,
   "id": "d30573e1",
   "metadata": {},
   "outputs": [
    {
     "name": "stdout",
     "output_type": "stream",
     "text": [
      "888.56\n",
      "100.9\n",
      "888\n",
      "10\n"
     ]
    },
    {
     "data": {
      "text/plain": [
       "str"
      ]
     },
     "execution_count": 22,
     "metadata": {},
     "output_type": "execute_result"
    }
   ],
   "source": [
    "a= 10\n",
    "b= 888.56\n",
    "var= 'my name is arghya'\n",
    "var1= '100.90'\n",
    "\n",
    "print(str(b))\n",
    "print(float(var1))\n",
    "print(int(b))\n",
    "print(str(a))\n",
    "type(str(a))\n",
    "\n"
   ]
  },
  {
   "cell_type": "code",
   "execution_count": 17,
   "id": "4abd3629",
   "metadata": {},
   "outputs": [
    {
     "ename": "ValueError",
     "evalue": "invalid literal for int() with base 10: '100.90'",
     "output_type": "error",
     "traceback": [
      "\u001b[1;31m---------------------------------------------------------------------------\u001b[0m",
      "\u001b[1;31mValueError\u001b[0m                                Traceback (most recent call last)",
      "\u001b[1;32m<ipython-input-17-34a79bcbb3b8>\u001b[0m in \u001b[0;36m<module>\u001b[1;34m\u001b[0m\n\u001b[1;32m----> 1\u001b[1;33m \u001b[0mint\u001b[0m\u001b[1;33m(\u001b[0m\u001b[0mvar1\u001b[0m\u001b[1;33m)\u001b[0m\u001b[1;33m\u001b[0m\u001b[1;33m\u001b[0m\u001b[0m\n\u001b[0m",
      "\u001b[1;31mValueError\u001b[0m: invalid literal for int() with base 10: '100.90'"
     ]
    }
   ],
   "source": [
    "int(var1)"
   ]
  },
  {
   "cell_type": "code",
   "execution_count": null,
   "id": "905a2d78",
   "metadata": {},
   "outputs": [],
   "source": [
    "Dont know why I cant convert string to int here."
   ]
  },
  {
   "cell_type": "code",
   "execution_count": null,
   "id": "0aecfaeb",
   "metadata": {},
   "outputs": [],
   "source": [
    "10. Why does this expression cause an error? How can you fix it?\n",
    "'I have eaten ' + 99 + ' burritos.'\n",
    "ans: We need to convert the int type datatype to string thereafter we can concatinate it with othe 2 strings.\n",
    "    str() function will do work."
   ]
  },
  {
   "cell_type": "code",
   "execution_count": 23,
   "id": "91942231",
   "metadata": {},
   "outputs": [
    {
     "data": {
      "text/plain": [
       "'I have eaten 99 burritos.'"
      ]
     },
     "execution_count": 23,
     "metadata": {},
     "output_type": "execute_result"
    }
   ],
   "source": [
    "'I have eaten ' + str(99) + ' burritos.'"
   ]
  }
 ],
 "metadata": {
  "kernelspec": {
   "display_name": "Python 3",
   "language": "python",
   "name": "python3"
  },
  "language_info": {
   "codemirror_mode": {
    "name": "ipython",
    "version": 3
   },
   "file_extension": ".py",
   "mimetype": "text/x-python",
   "name": "python",
   "nbconvert_exporter": "python",
   "pygments_lexer": "ipython3",
   "version": "3.8.8"
  }
 },
 "nbformat": 4,
 "nbformat_minor": 5
}
