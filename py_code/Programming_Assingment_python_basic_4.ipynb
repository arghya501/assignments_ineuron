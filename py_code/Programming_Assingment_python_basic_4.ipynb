{
  "nbformat": 4,
  "nbformat_minor": 0,
  "metadata": {
    "colab": {
      "name": "Programming_Assingment_python_basic_4.ipynb",
      "provenance": [],
      "collapsed_sections": []
    },
    "kernelspec": {
      "name": "python3",
      "display_name": "Python 3"
    },
    "language_info": {
      "name": "python"
    }
  },
  "cells": [
    {
      "cell_type": "markdown",
      "metadata": {
        "id": "mN8iC65P6k0T"
      },
      "source": [
        "1.\tWrite a Python Program to Find the Factorial of a Number?\n",
        "2.\tWrite a Python Program to Display the multiplication Table?\n",
        "3.\tWrite a Python Program to Print the Fibonacci sequence?\n",
        "4.\tWrite a Python Program to Check Armstrong Number?\n",
        "5.\tWrite a Python Program to Find Armstrong Number in an Interval?\n",
        "6.\tWrite a Python Program to Find the Sum of Natural Numbers?\n"
      ]
    },
    {
      "cell_type": "markdown",
      "metadata": {
        "id": "pJk360j76nQp"
      },
      "source": [
        "##1.\tWrite a Python Program to Find the Factorial of a Number?"
      ]
    },
    {
      "cell_type": "code",
      "metadata": {
        "id": "Ct1XA5CV6fOp"
      },
      "source": [
        "num = int(input(\"Enter The Number To Get Factorial: \"))\n",
        "for i in range(1,num):\n",
        "  num = num * i\n",
        "print (\"Factorial is:\",num)"
      ],
      "execution_count": null,
      "outputs": []
    },
    {
      "cell_type": "markdown",
      "metadata": {
        "id": "bU3qUWoC6s6-"
      },
      "source": [
        "##2. Write a Python Program to Display the multiplication Table?"
      ]
    },
    {
      "cell_type": "code",
      "metadata": {
        "id": "2zHcYWrc7KjU",
        "colab": {
          "base_uri": "https://localhost:8080/"
        },
        "outputId": "07864d77-83df-4602-a428-7efbf2b67b1f"
      },
      "source": [
        "num = int(input(\"Enter The Number To Get multiplication Table: \"))\n",
        "for i in range(1,11):\n",
        "  multiplication = num * i\n",
        "  print(num, '*' ,i, '=' ,multiplication)\n",
        "  \n",
        "\n"
      ],
      "execution_count": null,
      "outputs": [
        {
          "output_type": "stream",
          "text": [
            "Enter The Number To Get multiplication Table: 5\n",
            "5 * 1 = 5\n",
            "5 * 2 = 10\n",
            "5 * 3 = 15\n",
            "5 * 4 = 20\n",
            "5 * 5 = 25\n",
            "5 * 6 = 30\n",
            "5 * 7 = 35\n",
            "5 * 8 = 40\n",
            "5 * 9 = 45\n",
            "5 * 10 = 50\n"
          ],
          "name": "stdout"
        }
      ]
    },
    {
      "cell_type": "markdown",
      "metadata": {
        "id": "VspbIqrr6yoj"
      },
      "source": [
        "##3.\tWrite a Python Program to Print the Fibonacci sequence?"
      ]
    },
    {
      "cell_type": "code",
      "metadata": {
        "id": "fvwihlUj7LW8",
        "colab": {
          "base_uri": "https://localhost:8080/"
        },
        "outputId": "762ac613-3a19-4045-d3e5-b53292b85d58"
      },
      "source": [
        "# Program to display the Fibonacci sequence up to n-th term\n",
        "\n",
        "nterms = int(input(\"How many terms? \"))\n",
        "\n",
        "# first two terms\n",
        "n1, n2 = 0, 1\n",
        "count = 0\n",
        "\n",
        "# check if the number of terms is valid\n",
        "if nterms <= 0:\n",
        "   print(\"Please enter a positive integer\")\n",
        "# if there is only one term, return n1\n",
        "elif nterms == 1:\n",
        "   print(\"Fibonacci sequence upto\",nterms,\":\")\n",
        "   print(n1)\n",
        "# generate fibonacci sequence\n",
        "else:\n",
        "   print(\"Fibonacci sequence:\")\n",
        "   while count < nterms:\n",
        "       print(n1)\n",
        "       nth = n1 + n2\n",
        "       # update values\n",
        "       n1 = n2\n",
        "       n2 = nth\n",
        "       count += 1\n"
      ],
      "execution_count": null,
      "outputs": [
        {
          "output_type": "stream",
          "text": [
            "How many terms? 10\n",
            "Fibonacci sequence:\n",
            "0\n",
            "1\n",
            "1\n",
            "2\n",
            "3\n",
            "5\n",
            "8\n",
            "13\n",
            "21\n",
            "34\n"
          ],
          "name": "stdout"
        }
      ]
    },
    {
      "cell_type": "code",
      "metadata": {
        "colab": {
          "base_uri": "https://localhost:8080/"
        },
        "id": "7RyMXgtuW25N",
        "outputId": "2476e0f3-773b-45f9-c44e-1d2b8bd7beb6"
      },
      "source": [
        "#Using Recursion\n",
        "# Python program to display the Fibonacci sequence\n",
        "\n",
        "def recur_fibo(n):\n",
        "   if n <= 1:\n",
        "       return n\n",
        "   else:\n",
        "       return(recur_fibo(n-1) + recur_fibo(n-2))\n",
        "\n",
        "nterms = 10\n",
        "\n",
        "# check if the number of terms is valid\n",
        "if nterms <= 0:\n",
        "   print(\"Plese enter a positive integer\")\n",
        "else:\n",
        "   print(\"Fibonacci sequence:\")\n",
        "   for i in range(nterms):\n",
        "       print(recur_fibo(i))\n"
      ],
      "execution_count": null,
      "outputs": [
        {
          "output_type": "stream",
          "text": [
            "Fibonacci sequence:\n",
            "0\n",
            "1\n",
            "1\n",
            "2\n",
            "3\n",
            "5\n",
            "8\n",
            "13\n",
            "21\n",
            "34\n"
          ],
          "name": "stdout"
        }
      ]
    },
    {
      "cell_type": "markdown",
      "metadata": {
        "id": "vj7m6kpv65DY"
      },
      "source": [
        "##4.\tWrite a Python Program to Check Armstrong Number?"
      ]
    },
    {
      "cell_type": "code",
      "metadata": {
        "id": "S0wdVsU97LyU",
        "colab": {
          "base_uri": "https://localhost:8080/"
        },
        "outputId": "e7129c07-ef3b-48a5-ea9d-9825d9f62dff"
      },
      "source": [
        "# 153 is armstrong. 1 ^3 + 5 ^3 + 3 ^3 = 153.\n",
        "num = int(input(\"enter any 3 digit number: \"))\n",
        "sum = 0\n",
        "flag = num\n",
        "while (flag > 0):\n",
        "    flag_in = flag % 10\n",
        "    flag_result = flag_in**3\n",
        "    sum = sum + flag_result\n",
        "    flag = flag // 10\n",
        "if sum == num:\n",
        "    print('number is armstrong',num)\n",
        "else:\n",
        "    print('num is not armstrong',num)"
      ],
      "execution_count": null,
      "outputs": [
        {
          "output_type": "stream",
          "text": [
            "enter any 3 digit number: 153\n",
            "number is armstrong 153\n"
          ],
          "name": "stdout"
        }
      ]
    },
    {
      "cell_type": "markdown",
      "metadata": {
        "id": "6zo5AKOJ69kf"
      },
      "source": [
        "##5.\tWrite a Python Program to Find Armstrong Number in an Interval?"
      ]
    },
    {
      "cell_type": "code",
      "metadata": {
        "id": "TS7KeYMV7MVW",
        "colab": {
          "base_uri": "https://localhost:8080/"
        },
        "outputId": "9afd06e0-4f11-4a22-a29a-d749afc2ebd9"
      },
      "source": [
        "num = int(input(\"enter any 3 digit number inbetween 100 to 199: \"))\n",
        "sum = 0\n",
        "flag = num\n",
        "if flag >= 100 and flag <= 199:\n",
        "    while (flag > 0):\n",
        "        flag_in = flag % 10\n",
        "        flag_result = flag_in**3\n",
        "        sum = sum + flag_result\n",
        "        flag = flag // 10\n",
        "    if sum == num:\n",
        "        print('number is armstrong',num)\n",
        "    else:\n",
        "        print('num is not armstrong',num)\n",
        "else:\n",
        "  print(\"Check number once again !!!\")"
      ],
      "execution_count": null,
      "outputs": [
        {
          "output_type": "stream",
          "text": [
            "enter any 3 digit number inbetween 100 to 199: 153\n",
            "number is armstrong 153\n"
          ],
          "name": "stdout"
        }
      ]
    },
    {
      "cell_type": "code",
      "metadata": {
        "colab": {
          "base_uri": "https://localhost:8080/"
        },
        "id": "pwWfqTykjkBY",
        "outputId": "fd669260-8194-4cbd-d21e-0b1cc46d9ba2"
      },
      "source": [
        "# Program to check Armstrong numbers in a certain interval\n",
        "\n",
        "lower = 100\n",
        "upper = 2000\n",
        "\n",
        "for num in range(lower, upper + 1):\n",
        "\n",
        "   # order of number\n",
        "   order = len(str(num))\n",
        "    \n",
        "   # initialize sum\n",
        "   sum = 0\n",
        "\n",
        "   temp = num\n",
        "   while temp > 0:\n",
        "       digit = temp % 10\n",
        "       sum += digit ** order\n",
        "       temp //= 10\n",
        "\n",
        "   if num == sum:\n",
        "       print(num)"
      ],
      "execution_count": null,
      "outputs": [
        {
          "output_type": "stream",
          "text": [
            "153\n",
            "370\n",
            "371\n",
            "407\n",
            "1634\n"
          ],
          "name": "stdout"
        }
      ]
    },
    {
      "cell_type": "markdown",
      "metadata": {
        "id": "pJvTzTQv7BN_"
      },
      "source": [
        "##6. Write a Python Program to Find the Sum of Natural Numbers?"
      ]
    },
    {
      "cell_type": "code",
      "metadata": {
        "id": "nYbxky3N7FFG",
        "colab": {
          "base_uri": "https://localhost:8080/"
        },
        "outputId": "d1c9788a-380f-4c3f-b2f5-495c3081bc39"
      },
      "source": [
        "num = int(input('enter the number: '))\n",
        "if num <= 0:\n",
        "  print('Please enter positive number')\n",
        "else:\n",
        "  sum = 0\n",
        "  while num > 0:\n",
        "    sum = sum + num\n",
        "    num = num - 1\n",
        "  print(sum,'is the sum of natural numbers')\n"
      ],
      "execution_count": null,
      "outputs": [
        {
          "output_type": "stream",
          "text": [
            "enter the number: 10000000\n",
            "50000005000000 is the sum of natural numbers\n"
          ],
          "name": "stdout"
        }
      ]
    },
    {
      "cell_type": "markdown",
      "metadata": {
        "id": "jMzkg8_z8VTL"
      },
      "source": [
        "##End"
      ]
    }
  ]
}