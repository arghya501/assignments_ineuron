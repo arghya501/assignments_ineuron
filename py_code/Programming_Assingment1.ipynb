{
  "nbformat": 4,
  "nbformat_minor": 0,
  "metadata": {
    "colab": {
      "name": "Programming_Assingment1.ipynb",
      "provenance": [],
      "toc_visible": true
    },
    "kernelspec": {
      "name": "python3",
      "display_name": "Python 3"
    },
    "language_info": {
      "name": "python"
    }
  },
  "cells": [
    {
      "cell_type": "markdown",
      "metadata": {
        "id": "P_Dr1ZdwkOHj"
      },
      "source": [
        "##1.\tWrite a Python program to print \"Hello Python\"?"
      ]
    },
    {
      "cell_type": "code",
      "metadata": {
        "colab": {
          "base_uri": "https://localhost:8080/"
        },
        "id": "pQPb6cWIkX3C",
        "outputId": "83ce93f0-9b5a-43f9-cf61-147bc6a2de11"
      },
      "source": [
        "print(\"Hello Python\")"
      ],
      "execution_count": null,
      "outputs": [
        {
          "output_type": "stream",
          "text": [
            "Hello Python\n"
          ],
          "name": "stdout"
        }
      ]
    },
    {
      "cell_type": "markdown",
      "metadata": {
        "id": "0mmO_NOeklSn"
      },
      "source": [
        "##2.\tWrite a Python program to do arithmetical operations addition and division.?"
      ]
    },
    {
      "cell_type": "code",
      "metadata": {
        "colab": {
          "base_uri": "https://localhost:8080/"
        },
        "id": "BRErRevwkuEE",
        "outputId": "d510d0c2-d84b-46b0-fddc-56adbf16ae0e"
      },
      "source": [
        "a = 2\n",
        "b = 4\n",
        "\n",
        "sum = a+b\n",
        "div = a/b\n",
        "print(\"Sum of a ans b is:\",sum)\n",
        "print(\"Division of a ans b is:\",div)"
      ],
      "execution_count": null,
      "outputs": [
        {
          "output_type": "stream",
          "text": [
            "Sum of a ans b is: 6\n",
            "Division of a ans b is: 0.5\n"
          ],
          "name": "stdout"
        }
      ]
    },
    {
      "cell_type": "markdown",
      "metadata": {
        "id": "lZqeHmmnl5Nv"
      },
      "source": [
        "##3.\tWrite a Python program to find the area of a triangle?"
      ]
    },
    {
      "cell_type": "code",
      "metadata": {
        "colab": {
          "base_uri": "https://localhost:8080/"
        },
        "id": "4aezKmbil-Bp",
        "outputId": "70a5cfd8-7e71-422c-8515-0f4493d11d06"
      },
      "source": [
        "height = float(input(\"Enter the Height of a triangle \"))\n",
        "base = float(input(\"Enter the Base of a triangle \"))\n",
        "\n",
        "area_triangle = 0.5 * (height*base) \n",
        "# area =  1/2(height*base)\n",
        "\n",
        "print(\"The area of the triangle is:\",area_triangle)\n",
        "\n"
      ],
      "execution_count": null,
      "outputs": [
        {
          "output_type": "stream",
          "text": [
            "Enter the Height of a triangle 1\n",
            "Enter the Base of a triangle 1\n",
            "The area of the triangle is: 0.5\n"
          ],
          "name": "stdout"
        }
      ]
    },
    {
      "cell_type": "markdown",
      "metadata": {
        "id": "9fVhI4BioHyu"
      },
      "source": [
        "##4.\tWrite a Python program to swap two variables?"
      ]
    },
    {
      "cell_type": "code",
      "metadata": {
        "colab": {
          "base_uri": "https://localhost:8080/"
        },
        "id": "NDIBDRQXoY3F",
        "outputId": "f6e449b6-0437-467c-ed51-ec23ca7b0d5d"
      },
      "source": [
        "#swap two numbers without third variable\n",
        "a = 10\n",
        "b = 20\n",
        "a = a+b\n",
        "b = a-b\n",
        "a = a-b \n",
        "print(\" a and b is : \",a,b)"
      ],
      "execution_count": null,
      "outputs": [
        {
          "output_type": "stream",
          "text": [
            " a and b is :  20 10\n"
          ],
          "name": "stdout"
        }
      ]
    },
    {
      "cell_type": "code",
      "metadata": {
        "colab": {
          "base_uri": "https://localhost:8080/"
        },
        "id": "gmlSr97Kp7EN",
        "outputId": "bb296336-a6c0-43c3-81ec-f50694ddbd10"
      },
      "source": [
        "#swap two numbers using third variable\n",
        "a = 10\n",
        "b = 20\n",
        "\n",
        "temp = a\n",
        "a = b\n",
        "b = temp\n",
        "\n",
        "print(\"a snd b is now like : \",a,b)"
      ],
      "execution_count": null,
      "outputs": [
        {
          "output_type": "stream",
          "text": [
            "a snd b is now like :  20 10\n"
          ],
          "name": "stdout"
        }
      ]
    },
    {
      "cell_type": "markdown",
      "metadata": {
        "id": "c88sQeqXqlf3"
      },
      "source": [
        "##5.\tWrite a Python program to generate a random number?"
      ]
    },
    {
      "cell_type": "code",
      "metadata": {
        "id": "1mvH4G_9qpQX",
        "colab": {
          "base_uri": "https://localhost:8080/"
        },
        "outputId": "6dc81996-280c-40ee-9fde-05e1c8d3330d"
      },
      "source": [
        "import random\n",
        "n = random.random()\n",
        "print(n)"
      ],
      "execution_count": 1,
      "outputs": [
        {
          "output_type": "stream",
          "text": [
            "0.2673395863002246\n"
          ],
          "name": "stdout"
        }
      ]
    }
  ]
}