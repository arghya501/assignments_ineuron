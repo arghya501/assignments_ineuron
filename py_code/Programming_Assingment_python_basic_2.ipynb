{
  "nbformat": 4,
  "nbformat_minor": 0,
  "metadata": {
    "colab": {
      "name": "Programming_Assingment_python_basic_2.ipynb",
      "provenance": [],
      "collapsed_sections": []
    },
    "kernelspec": {
      "name": "python3",
      "display_name": "Python 3"
    },
    "language_info": {
      "name": "python"
    }
  },
  "cells": [
    {
      "cell_type": "markdown",
      "metadata": {
        "id": "8utSJ3DPzelH"
      },
      "source": [
        "##1.\tWrite a Python program to convert kilometers to miles?"
      ]
    },
    {
      "cell_type": "code",
      "metadata": {
        "id": "c72SJVUGzrtn",
        "colab": {
          "base_uri": "https://localhost:8080/"
        },
        "outputId": "6fb8dce7-40d8-4a4a-aea9-d5041be800ba"
      },
      "source": [
        "a = float(input(\"enter how much kilometer \"))\n",
        "mile = a * 0.625\n",
        "#mile= kilometer*(5/8)\n",
        "print(mile)"
      ],
      "execution_count": null,
      "outputs": [
        {
          "output_type": "stream",
          "text": [
            "enter how much kilometer 1\n",
            "0.625\n"
          ],
          "name": "stdout"
        }
      ]
    },
    {
      "cell_type": "markdown",
      "metadata": {
        "id": "ckoY4yTm2cgl"
      },
      "source": [
        "##2.\tWrite a Python program to convert Celsius to Fahrenheit?"
      ]
    },
    {
      "cell_type": "code",
      "metadata": {
        "id": "HNXFZppm2gsY",
        "colab": {
          "base_uri": "https://localhost:8080/"
        },
        "outputId": "d9c0640a-c62b-4fca-c3ea-04e7603ae377"
      },
      "source": [
        "cel = float(input(\"Enter The Celcious Value: \"))\n",
        "faren = 1.8 * cel + 32\n",
        "print(faren)\n",
        "# c= (f-32)5/9\n",
        "#f= (9/5)c + 32"
      ],
      "execution_count": null,
      "outputs": [
        {
          "output_type": "stream",
          "text": [
            "Enter The Celcious Value: 1\n",
            "33.8\n"
          ],
          "name": "stdout"
        }
      ]
    },
    {
      "cell_type": "markdown",
      "metadata": {
        "id": "epNl89UNsioz"
      },
      "source": [
        "##3.\tWrite a Python program to display calendar?"
      ]
    },
    {
      "cell_type": "code",
      "metadata": {
        "colab": {
          "base_uri": "https://localhost:8080/"
        },
        "id": "i1okncZSsxNy",
        "outputId": "1c3dd4e3-cfda-44f0-b9f3-693bf9d38ea1"
      },
      "source": [
        "import calendar\n",
        "theyear = 2014\n",
        "themonth = 7\n",
        "# To take month and year input from the user\n",
        "# theyear = int(input(\"Enter year: \"))\n",
        "# themonth = int(input(\"Enter month: \"))\n",
        "\n",
        "print(calendar.month(theyear,themonth))\n",
        "\n"
      ],
      "execution_count": null,
      "outputs": [
        {
          "output_type": "stream",
          "text": [
            "     July 2014\n",
            "Mo Tu We Th Fr Sa Su\n",
            "    1  2  3  4  5  6\n",
            " 7  8  9 10 11 12 13\n",
            "14 15 16 17 18 19 20\n",
            "21 22 23 24 25 26 27\n",
            "28 29 30 31\n",
            "\n"
          ],
          "name": "stdout"
        }
      ]
    },
    {
      "cell_type": "markdown",
      "metadata": {
        "id": "Au3cLYTev-as"
      },
      "source": [
        "##4.\tWrite a Python program to solve quadratic equation?"
      ]
    },
    {
      "cell_type": "code",
      "metadata": {
        "id": "Rhko1WABwCFw",
        "colab": {
          "base_uri": "https://localhost:8080/"
        },
        "outputId": "63f52bc3-8805-4898-811f-06f3ed00d38a"
      },
      "source": [
        "# Solve the quadratic equation ax**2 + bx + c = 0\n",
        "# import complex math module\n",
        "import cmath\n",
        "a = 1\n",
        "b = 5\n",
        "c = 6\n",
        "\n",
        "d = (b**2) - (4*a*c)\n",
        "solution1 = (-b + cmath.sqrt(d))/2*a\n",
        "solution2 = (-b - cmath.sqrt(d))/2*a\n",
        "\n",
        "print(\"the solutions are {0} and {1}\".format(solution1,solution2))\n"
      ],
      "execution_count": 2,
      "outputs": [
        {
          "output_type": "stream",
          "text": [
            "the solutions are (-2+0j) and (-3+0j)\n"
          ],
          "name": "stdout"
        }
      ]
    },
    {
      "cell_type": "code",
      "metadata": {
        "colab": {
          "base_uri": "https://localhost:8080/"
        },
        "id": "PHUviYVVy0Jc",
        "outputId": "3c884d29-44e1-47a6-d3d6-1f402b8a65cd"
      },
      "source": [
        "#Quadratic equation\n",
        "a=int(input())\n",
        "b=int(input())\n",
        "c=int(input())\n",
        "\n",
        "d_d = b**2-(4*a*c) #Assigning variables to make the program simpler\n",
        "d = d_d**(1/2)  #Root of b square -4ac\n",
        "sol1 = ((-b)+d)/(2*a)\n",
        "sol2 = ((-b)-d)/(2*a)\n",
        "\n",
        "#Check if solution exists\n",
        "\n",
        "if d_d < 0:\n",
        "   print('Solution exists in complex numbers')\n",
        "\n",
        "#Return the solution if it exists in real numbers) \n",
        "else:\n",
        "   print('x = {0} or x = {1}'.format(sol1,sol2))  6"
      ],
      "execution_count": 3,
      "outputs": [
        {
          "output_type": "stream",
          "text": [
            "1\n",
            "5\n",
            "6\n",
            "x = -2.0 or x = -3.0\n"
          ],
          "name": "stdout"
        }
      ]
    },
    {
      "cell_type": "markdown",
      "metadata": {
        "id": "K5kNUXMn0P_j"
      },
      "source": [
        "##1.\tWrite a Python program to swap two variables without temp variable?"
      ]
    },
    {
      "cell_type": "code",
      "metadata": {
        "colab": {
          "base_uri": "https://localhost:8080/"
        },
        "id": "Yto76bzF0RkW",
        "outputId": "425de9d9-c202-40d0-e43c-74bc07604a3c"
      },
      "source": [
        "a = 10 \n",
        "b = 100\n",
        "a , b = b , a\n",
        "print(a,b)"
      ],
      "execution_count": null,
      "outputs": [
        {
          "output_type": "stream",
          "text": [
            "100 10\n"
          ],
          "name": "stdout"
        }
      ]
    },
    {
      "cell_type": "code",
      "metadata": {
        "colab": {
          "base_uri": "https://localhost:8080/"
        },
        "id": "Y9wLqtyA0567",
        "outputId": "e38e86e1-a964-41c4-c46d-a879f4a8da1a"
      },
      "source": [
        "a,b= 10,100\n",
        "\n",
        "a = a + b\n",
        "b = a - b\n",
        "a = a - b\n",
        "print(a,b)"
      ],
      "execution_count": null,
      "outputs": [
        {
          "output_type": "stream",
          "text": [
            "100 10\n"
          ],
          "name": "stdout"
        }
      ]
    },
    {
      "cell_type": "code",
      "metadata": {
        "colab": {
          "base_uri": "https://localhost:8080/"
        },
        "id": "t3qB9jtL1hJC",
        "outputId": "e3bc04dd-a3b7-4cae-d533-1de1fccc5461"
      },
      "source": [
        "a,b= 10,100\n",
        "\n",
        "a = a * b\n",
        "b = a / b\n",
        "a = a / b\n",
        "print(a,b)"
      ],
      "execution_count": null,
      "outputs": [
        {
          "output_type": "stream",
          "text": [
            "100.0 10.0\n"
          ],
          "name": "stdout"
        }
      ]
    },
    {
      "cell_type": "markdown",
      "metadata": {
        "id": "A6GWfvmivI7L"
      },
      "source": [
        "##END"
      ]
    }
  ]
}