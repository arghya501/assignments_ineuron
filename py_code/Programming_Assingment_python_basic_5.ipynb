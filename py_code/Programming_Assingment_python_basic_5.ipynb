{
  "nbformat": 4,
  "nbformat_minor": 0,
  "metadata": {
    "colab": {
      "name": "Programming_Assingment_python_basic_5.ipynb",
      "provenance": []
    },
    "kernelspec": {
      "name": "python3",
      "display_name": "Python 3"
    },
    "language_info": {
      "name": "python"
    }
  },
  "cells": [
    {
      "cell_type": "markdown",
      "metadata": {
        "id": "6U2VKR4P-CZv"
      },
      "source": [
        "1.\tWrite a Python Program to Find LCM?\n",
        "2.\tWrite a Python Program to Find HCF?\n",
        "3.\tWrite a Python Program to Convert Decimal to Binary, Octal and Hexadecimal?\n",
        "4.\tWrite a Python Program To Find ASCII value of a character?\n",
        "5.\tWrite a Python Program to Make a Simple Calculator with 4 basic mathematical operations?\n"
      ]
    },
    {
      "cell_type": "markdown",
      "metadata": {
        "id": "LIWSeL0o_Tla"
      },
      "source": [
        "##1.\tWrite a Python Program to Find LCM?"
      ]
    },
    {
      "cell_type": "code",
      "metadata": {
        "id": "4nYZKn0R_VKL",
        "colab": {
          "base_uri": "https://localhost:8080/"
        },
        "outputId": "068e0763-f7dd-403f-deb2-8b0babe4d41d"
      },
      "source": [
        "def hcf(x,y):\n",
        "    while y:\n",
        "        x,y = y, x%y\n",
        "    return x\n",
        "\n",
        "def lcm(x,y):\n",
        "    lcm = (x*y)//hcf(x,y)\n",
        "    return lcm\n",
        "\n",
        "num1 = int(input('1st number:'))\n",
        "num2 = int(input('2nd number:'))\n",
        "\n",
        "print('hcf is:',hcf(num1,num2))\n",
        "print('lcm is:',lcm(num1,num2))"
      ],
      "execution_count": null,
      "outputs": [
        {
          "output_type": "stream",
          "text": [
            "1st number:5\n",
            "2nd number:3\n",
            "hcf is: 1\n",
            "lcm is: 15\n"
          ],
          "name": "stdout"
        }
      ]
    },
    {
      "cell_type": "markdown",
      "metadata": {
        "id": "-yo5xCGg_Ver"
      },
      "source": [
        "##2. Write a Python Program to Find HCF?"
      ]
    },
    {
      "cell_type": "code",
      "metadata": {
        "id": "dI3zYYcL_Zrr",
        "colab": {
          "base_uri": "https://localhost:8080/"
        },
        "outputId": "25727e47-65af-463f-aada-398351453184"
      },
      "source": [
        "def hcf(x,y):\n",
        "    while y:\n",
        "        x,y = y, x%y\n",
        "    return x\n",
        "  \n",
        "num1 = int(input('1st number:'))\n",
        "num2 = int(input('2nd number:'))\n",
        "\n",
        "print('hcf is:',hcf(num1,num2))"
      ],
      "execution_count": null,
      "outputs": [
        {
          "output_type": "stream",
          "text": [
            "1st number:7\n",
            "2nd number:6\n",
            "hcf is: 1\n"
          ],
          "name": "stdout"
        }
      ]
    },
    {
      "cell_type": "markdown",
      "metadata": {
        "id": "3jhEQtex_aGB"
      },
      "source": [
        "##3.\tWrite a Python Program to Convert Decimal to Binary, Octal and Hexadecimal?"
      ]
    },
    {
      "cell_type": "code",
      "metadata": {
        "id": "zva9n5V0_fC8",
        "colab": {
          "base_uri": "https://localhost:8080/"
        },
        "outputId": "fdf9a3ca-33c7-47cb-97eb-4ad381c6adb4"
      },
      "source": [
        "# Python program to convert decimal into other number systems\n",
        "dec = 15\n",
        "\n",
        "print(\"The decimal value of\", dec, \"is:\")\n",
        "print(bin(dec), \"in binary.\")\n",
        "print(oct(dec), \"in octal.\")\n",
        "print(hex(dec), \"in hexadecimal.\")\n"
      ],
      "execution_count": null,
      "outputs": [
        {
          "output_type": "stream",
          "text": [
            "The decimal value of 15 is:\n",
            "0b1111 in binary.\n",
            "0o17 in octal.\n",
            "0xf in hexadecimal.\n"
          ],
          "name": "stdout"
        }
      ]
    },
    {
      "cell_type": "markdown",
      "metadata": {
        "id": "WAbkUER7_fc0"
      },
      "source": [
        "##4.\tWrite a Python Program To Find ASCII value of a character?"
      ]
    },
    {
      "cell_type": "code",
      "metadata": {
        "id": "ozx2P5Hd_i7k",
        "colab": {
          "base_uri": "https://localhost:8080/"
        },
        "outputId": "c53f5054-8523-47fa-8199-0063e4d81a87"
      },
      "source": [
        "# Program to find the ASCII value of the given character\n",
        "\n",
        "c = 'A'\n",
        "print(\"The ASCII value of '\" + c + \"' is\", ord(c))\n"
      ],
      "execution_count": null,
      "outputs": [
        {
          "output_type": "stream",
          "text": [
            "The ASCII value of 'A' is 65\n"
          ],
          "name": "stdout"
        }
      ]
    },
    {
      "cell_type": "markdown",
      "metadata": {
        "id": "42hUOLwH_jZX"
      },
      "source": [
        "##5.\tWrite a Python Program to Make a Simple Calculator with 4 basic mathematical operations?"
      ]
    },
    {
      "cell_type": "code",
      "metadata": {
        "id": "ZH8q-Tub_ngI"
      },
      "source": [
        "# Program make a simple calculator\n",
        "\n",
        "# This function adds two numbers\n",
        "def add(x, y):\n",
        "    return x + y\n",
        "\n",
        "# This function subtracts two numbers\n",
        "def subtract(x, y):\n",
        "    return x - y\n",
        "\n",
        "# This function multiplies two numbers\n",
        "def multiply(x, y):\n",
        "    return x * y\n",
        "\n",
        "# This function divides two numbers\n",
        "def divide(x, y):\n",
        "    return x / y\n",
        "\n",
        "\n",
        "print(\"Select operation.\")\n",
        "print(\"1.Add\")\n",
        "print(\"2.Subtract\")\n",
        "print(\"3.Multiply\")\n",
        "print(\"4.Divide\")\n",
        "\n",
        "while True:\n",
        "    # Take input from the user\n",
        "    choice = input(\"Enter choice(1/2/3/4): \")\n",
        "\n",
        "    # Check if choice is one of the four options\n",
        "    if choice in ('1', '2', '3', '4'):\n",
        "        num1 = float(input(\"Enter first number: \"))\n",
        "        num2 = float(input(\"Enter second number: \"))\n",
        "\n",
        "        if choice == '1':\n",
        "            print(num1, \"+\", num2, \"=\", add(num1, num2))\n",
        "\n",
        "        elif choice == '2':\n",
        "            print(num1, \"-\", num2, \"=\", subtract(num1, num2))\n",
        "\n",
        "        elif choice == '3':\n",
        "            print(num1, \"*\", num2, \"=\", multiply(num1, num2))\n",
        "\n",
        "        elif choice == '4':\n",
        "            print(num1, \"/\", num2, \"=\", divide(num1, num2))\n",
        "        break\n",
        "    else:\n",
        "        print(\"Invalid Input\")\n"
      ],
      "execution_count": null,
      "outputs": []
    },
    {
      "cell_type": "markdown",
      "metadata": {
        "id": "QpisjeZ3_oF6"
      },
      "source": [
        "##End"
      ]
    }
  ]
}