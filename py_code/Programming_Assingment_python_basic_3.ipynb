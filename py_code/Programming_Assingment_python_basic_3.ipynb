{
  "nbformat": 4,
  "nbformat_minor": 0,
  "metadata": {
    "colab": {
      "name": "Programming_Assingment_python_basic_3.ipynb",
      "provenance": [],
      "collapsed_sections": []
    },
    "kernelspec": {
      "name": "python3",
      "display_name": "Python 3"
    },
    "language_info": {
      "name": "python"
    }
  },
  "cells": [
    {
      "cell_type": "code",
      "metadata": {
        "id": "VwLB-QeN1MM5"
      },
      "source": [
        "1.\tWrite a Python Program to Check if a Number is Positive, Negative or Zero?\n",
        "2.\tWrite a Python Program to Check if a Number is Odd or Even?\n",
        "3.\tWrite a Python Program to Check Leap Year?\n",
        "4.\tWrite a Python Program to Check Prime Number?\n",
        "5.\tWrite a Python Program to Print all Prime Numbers in an Interval of 1-10000?\n"
      ],
      "execution_count": null,
      "outputs": []
    },
    {
      "cell_type": "markdown",
      "metadata": {
        "id": "14BR6uE3iP0Q"
      },
      "source": [
        "##1.\tWrite a Python Program to Check if a Number is Positive, Negative or Zero?"
      ]
    },
    {
      "cell_type": "code",
      "metadata": {
        "colab": {
          "base_uri": "https://localhost:8080/"
        },
        "id": "xv3QEG7a1Ocd",
        "outputId": "90d988a8-3419-4715-ed15-eb47b5914029"
      },
      "source": [
        "n =  float(input(\"enter a number: \"))\n",
        "if n == 0:\n",
        "  print(\"number is ZERO \")\n",
        "elif n > 0:\n",
        "  print(\"Number is Positive \")\n",
        "else: print(\"Number is Negative \")\n"
      ],
      "execution_count": 2,
      "outputs": [
        {
          "output_type": "stream",
          "text": [
            "enter a number: -100\n",
            "Number is Negative \n"
          ],
          "name": "stdout"
        }
      ]
    },
    {
      "cell_type": "markdown",
      "metadata": {
        "id": "unh_6LQC2swI"
      },
      "source": [
        "##2.\tWrite a Python Program to Check if a Number is Odd or Even?\n"
      ]
    },
    {
      "cell_type": "code",
      "metadata": {
        "colab": {
          "base_uri": "https://localhost:8080/"
        },
        "id": "Aoa7XSzE2vRf",
        "outputId": "def63a35-f6b9-4b94-99df-f4ec3792c713"
      },
      "source": [
        "n =  float(input(\"enter a number: \"))\n",
        "check = n/2\n",
        "elif check == 1 or check % 2 == 0:\n",
        "  print(\"Number is Even\")\n",
        "else: print(\"Number is Odd\")"
      ],
      "execution_count": 7,
      "outputs": [
        {
          "output_type": "stream",
          "text": [
            "enter a number: 0\n",
            "Number is Even\n"
          ],
          "name": "stdout"
        }
      ]
    },
    {
      "cell_type": "markdown",
      "metadata": {
        "id": "uJlQs_GL5E5T"
      },
      "source": [
        "##3.\tWrite a Python Program to Check Leap Year?"
      ]
    },
    {
      "cell_type": "code",
      "metadata": {
        "colab": {
          "base_uri": "https://localhost:8080/"
        },
        "id": "vMbhXT1y5JlX",
        "outputId": "762ceb51-a27b-4890-cb56-8bee6f67dad1"
      },
      "source": [
        "y = int(input(\"enter the year \"))\n",
        "if y%4 == 0  or y%100 == 0 or y%400 == 0:\n",
        "  print(\"The Year Is Leap Year:\",y)\n",
        "else: print(\"Not a Leap Year:\",y)"
      ],
      "execution_count": 13,
      "outputs": [
        {
          "output_type": "stream",
          "text": [
            "enter the year 2017\n",
            "Not a Leap Year: 2017\n"
          ],
          "name": "stdout"
        }
      ]
    },
    {
      "cell_type": "markdown",
      "metadata": {
        "id": "cem4WZVu9Nmn"
      },
      "source": [
        "##4.\tWrite a Python Program to Check Prime Number?"
      ]
    },
    {
      "cell_type": "code",
      "metadata": {
        "colab": {
          "base_uri": "https://localhost:8080/"
        },
        "id": "w5eZiLkg9R-b",
        "outputId": "fbe3961f-ed74-4015-d75b-5a79f9e4b804"
      },
      "source": [
        "num =  int(input(\"enter the number \"))\n",
        "if num > 1:\n",
        "  for i in range(2,num):\n",
        "    if (num % i) == 0:\n",
        "        print(num,\" is not prime\")\n",
        "        break\n",
        "  else:\n",
        "      print(num,\" is a prime number\")\n",
        "# if input number is less than\n",
        "# or equal to 1, it is not prime\n",
        "else: print(num,\" is not a prime number\")"
      ],
      "execution_count": 65,
      "outputs": [
        {
          "output_type": "stream",
          "text": [
            "enter the number 2\n",
            "2  is a prime number\n"
          ],
          "name": "stdout"
        }
      ]
    },
    {
      "cell_type": "markdown",
      "metadata": {
        "id": "w04-GLtYGQ27"
      },
      "source": [
        "##5.\tWrite a Python Program to Print all Prime Numbers in an Interval of 1-10000?\n",
        "\n"
      ]
    },
    {
      "cell_type": "code",
      "metadata": {
        "id": "uzY9BEqEGSqD"
      },
      "source": [
        "for i in range (1,10000):\n",
        "  if i >1:\n",
        "    \n",
        "    for j in range (2,i):\n",
        "      if (i % j == 0):\n",
        "        break\n",
        "    else:\n",
        "        print(i,\"Number is Prime\")\n",
        "        \n",
        "        \n",
        "      "
      ],
      "execution_count": null,
      "outputs": []
    },
    {
      "cell_type": "markdown",
      "metadata": {
        "id": "pWiiUoEjiXDT"
      },
      "source": [
        "##END"
      ]
    }
  ]
}