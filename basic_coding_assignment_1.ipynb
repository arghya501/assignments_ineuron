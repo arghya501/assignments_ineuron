{
  "nbformat": 4,
  "nbformat_minor": 0,
  "metadata": {
    "colab": {
      "name": "basic coding assignment 1.ipynb",
      "provenance": [],
      "collapsed_sections": []
    },
    "kernelspec": {
      "name": "python3",
      "display_name": "Python 3"
    },
    "language_info": {
      "name": "python"
    }
  },
  "cells": [
    {
      "cell_type": "markdown",
      "metadata": {
        "id": "zARNhs_0B6jH"
      },
      "source": [
        "#1. In the below elements which of them are values or an expression? eg:- values can be integer or string and expressions will be mathematical operators.\n",
        "##* \n",
        
        "##'hello'\n",
        "##-87.8\n",
        "##- \n",
        "##/ \n",
        "##+\n",
        "##6 "
        
      ]
    },
    {
      "cell_type": "code",
      "metadata": {
        "id": "OUrJb5UzFFc4"
      },
      "source": [
        "Value: 'hello' 6\n",
        "\n",
        "Expression: *,-,+,/,\n",
        "            -87.8"
      ],
      "execution_count": null,
      "outputs": []
    },
    {
      "cell_type": "markdown",
      "metadata": {
        "id": "bqD26AsXCP66"
      },
      "source": [
        "##2. What is the difference between string and variable?\n"
      ]
    },
    {
      "cell_type": "code",
      "metadata": {
        "id": "cwVkoeCcFJRs"
      },
      "source": [
        "Variable can store a datatype like int,float,string. Whereas String itself a datatype. var='Arghya'\n",
        "\n",
        "here var is the variable name, and 'Arghya' is a string.\n",
        "type(var) will give what type of data variable var stors."
      ],
      "execution_count": null,
      "outputs": []
    },
    {
      "cell_type": "markdown",
      "metadata": {
        "id": "XFlu8vE3Cd7A"
      },
      "source": [
        "##3. Describe three different data types.\n"
      ]
    },
    {
      "cell_type": "code",
      "metadata": {
        "id": "0sdWxSDjIBAH"
      },
      "source": [
        " 1. int type datatype: a= 0, b= 100, c= -10\n",
        " 2. float type datatype: a=0.01, b=3.89, c= -134.02\n",
        " 3. str type datatype: a='yes good', name= 'Shilpi'"
      ],
      "execution_count": null,
      "outputs": []
    },
    {
      "cell_type": "markdown",
      "metadata": {
        "id": "5f_sbZorI3K-"
      },
      "source": [
        "##4. What is an expression made up of? What do all expressions do?"
      ]
    },
    {
      "cell_type": "code",
      "metadata": {
        "id": "tBw-zvVkI-aM"
      },
      "source": [
        " Expression made up with operators and operand and it express a mathametical form or equation\n",
        "    eg. a= 10\n",
        "        b= 4\n",
        "        c= a+a/2-b\n",
        "        \n",
        "        a,b,c are operands.\n",
        "        +,/,- are operator.\n",
        "        c= a+a/2-b is a expression."
      ],
      "execution_count": null,
      "outputs": []
    },
    {
      "cell_type": "markdown",
      "metadata": {
        "id": "k-9nP9xIJDHp"
      },
      "source": [
        "##5. This assignment statements, like spam = 10. What is the difference between an expression and a statement?"
      ]
    },
    {
      "cell_type": "code",
      "metadata": {
        "id": "kUTViCwiJIEu"
      },
      "source": [
        "Expression always returns a value, like functions return value even non returning functions return some value.\n",
        "Whereas Ststements cant return values.Cannot print any result\n",
        "Examples Of Python Statements: Assignment statements, conditional branching, loops, classes, import, def, try, except, pass, del etc."
      ],
      "execution_count": null,
      "outputs": []
    },
    {
      "cell_type": "markdown",
      "metadata": {
        "id": "SicJMgE_JTN6"
      },
      "source": [
        "##6. After running the following code, what does the variable bacon contain?\n",
        "bacon = 22\n",
        "bacon + 1\n"
      ]
    },
    {
      "cell_type": "markdown",
      "metadata": {
        "id": "EkNHYeXNJ9mI"
      },
      "source": [
        "bacon = 22\n",
        "\n",
        "bacon + 1"
      ]
    },
    {
      "cell_type": "code",
      "metadata": {
        "colab": {
          "base_uri": "https://localhost:8080/"
        },
        "id": "GRia07DQLLaK",
        "outputId": "89a2d012-4180-4f4b-862d-b86e1b635c89"
      },
      "source": [
        "bacon = 22\n",
        "\n",
        "bacon + 1\n",
        "#output=22"
      ],
      "execution_count": 7,
      "outputs": [
        {
          "output_type": "execute_result",
          "data": {
            "text/plain": [
              "23"
            ]
          },
          "metadata": {
            "tags": []
          },
          "execution_count": 7
        }
      ]
    },
    {
      "cell_type": "markdown",
      "metadata": {
        "id": "ilmFrqmPLUvN"
      },
      "source": [
        "##7. What should the values of the following two terms be?\n",
        "'spam' + 'spamspam'\n",
        "\n",
        "'spam' * 3"
      ]
    },
    {
      "cell_type": "code",
      "metadata": {
        "colab": {
          "base_uri": "https://localhost:8080/"
        },
        "id": "PmNK97QCLfTb",
        "outputId": "8dc2e7ee-bc37-404f-f375-ee36e23339ac"
      },
      "source": [
        "print('spam' + 'spamspam')\n",
        "\n",
        "print('spam' * 3)\n",
        "\n",
        "# output: 'spamspamspam'\n",
        "#         'spamspamspam'"
      ],
      "execution_count": 11,
      "outputs": [
        {
          "output_type": "stream",
          "text": [
            "spamspamspam\n",
            "spamspamspam\n"
          ],
          "name": "stdout"
        }
      ]
    },
    {
      "cell_type": "markdown",
      "metadata": {
        "id": "3YCOVtqHMuX7"
      },
      "source": [
        "##8.Why is eggs a valid variable name while 100 is invalid?"
      ]
    },
    {
      "cell_type": "code",
      "metadata": {
        "id": "_Bu2hgFuM3-M"
      },
      "source": [
        "A variable name can not be start with a number thats why 100 can't be a variable name.\n",
        "A variable name must start with a letter or the underscore character."
      ],
      "execution_count": null,
      "outputs": []
    },
    {
      "cell_type": "markdown",
      "metadata": {
        "id": "lmCvRF2FNBO_"
      },
      "source": [
        "##9.What three functions can be used to get the integer, floating-point number, or string version of a value?"
      ]
    },
    {
      "cell_type": "code",
      "metadata": {
        "colab": {
          "base_uri": "https://localhost:8080/"
        },
        "id": "LndnMQOGNOT1",
        "outputId": "fe99d31a-b4b6-48f2-ea2b-6202da93e355"
      },
      "source": [
        "#int() , float() , and str( ) functions will work.\n",
        "a= 10\n",
        "b= 888.56\n",
        "var= 'my name is arghya'\n",
        "var1= '100.90'\n",
        "\n",
        "print(str(b))\n",
        "print(float(var1))\n",
        "print(int(b))\n",
        "print(str(a))\n",
        "print(int(float(var1)))\n",
        "print(type(str(a)))\n",
        "print(type(int(float(var1))))"
      ],
      "execution_count": 15,
      "outputs": [
        {
          "output_type": "stream",
          "text": [
            "888.56\n",
            "100.9\n",
            "888\n",
            "10\n",
            "100\n",
            "<class 'str'>\n",
            "<class 'int'>\n"
          ],
          "name": "stdout"
        }
      ]
    },
    {
      "cell_type": "markdown",
      "metadata": {
        "id": "mfrZUZPHSOTO"
      },
      "source": [
        "##10. Why does this expression cause an error? How can you fix it?\n",
        "###'I have eaten ' + 99 + ' burritos.'"
      ]
    },
    {
      "cell_type": "code",
      "metadata": {
        "colab": {
          "base_uri": "https://localhost:8080/",
          "height": 35
        },
        "id": "OK9Kt16uSRJk",
        "outputId": "14847ec0-d5b5-4264-9b76-55072fbfc74a"
      },
      "source": [
        "# We need to convert the int type datatype to string thereafter we can concatinate it with othe 2 strings.\n",
        "# str() function will do work.\n",
        "\n",
        "'I have eaten ' + str(99) + ' burritos.'"
      ],
      "execution_count": 16,
      "outputs": [
        {
          "output_type": "execute_result",
          "data": {
            "application/vnd.google.colaboratory.intrinsic+json": {
              "type": "string"
            },
            "text/plain": [
              "'I have eaten 99 burritos.'"
            ]
          },
          "metadata": {
            "tags": []
          },
          "execution_count": 16
        }
      ]
    },
    {
      "cell_type": "markdown",
      "metadata": {
        "id": "xH_OsjcyVe2h"
      },
      "source": [
        "###COMPLETE\n"
      ]
    }
  ]
}
