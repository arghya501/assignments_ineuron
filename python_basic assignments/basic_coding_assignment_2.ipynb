{
  "nbformat": 4,
  "nbformat_minor": 0,
  "metadata": {
    "colab": {
      "name": "basic_coding_assignment_2.ipynb",
      "provenance": []
    },
    "kernelspec": {
      "name": "python3",
      "display_name": "Python 3"
    },
    "language_info": {
      "name": "python"
    }
  },
  "cells": [
    {
      "cell_type": "markdown",
      "metadata": {
        "id": "rsdNAOg27tFj"
      },
      "source": [
        "##1.What are the two values of the Boolean data type? How do you write them?\n"
      ]
    },
    {
      "cell_type": "code",
      "metadata": {
        "colab": {
          "base_uri": "https://localhost:8080/"
        },
        "id": "6Mxlmfno6mCM",
        "outputId": "ee7b3236-4266-4099-c9b7-f67109be837c"
      },
      "source": [
        "#True ans False are the values.\n",
        "\n",
        "# Here We CAN Write This:\n",
        "a = 20\n",
        "b = 30\n",
        "print (a==b)"
      ],
      "execution_count": 3,
      "outputs": [
        {
          "output_type": "stream",
          "text": [
            "False\n"
          ],
          "name": "stdout"
        }
      ]
    },
    {
      "cell_type": "code",
      "metadata": {
        "colab": {
          "base_uri": "https://localhost:8080/"
        },
        "id": "YhNSMa56CMrs",
        "outputId": "079704fd-a461-438e-84d5-0c4c56cc4a1b"
      },
      "source": [
        "a = 50\n",
        "b = 30\n",
        "print (a>b)"
      ],
      "execution_count": 5,
      "outputs": [
        {
          "output_type": "stream",
          "text": [
            "True\n"
          ],
          "name": "stdout"
        }
      ]
    },
    {
      "cell_type": "markdown",
      "metadata": {
        "id": "--Hvi-3Q-aNT"
      },
      "source": [
        "##2. What are the three different types of Boolean operators?"
      ]
    },
    {
      "cell_type": "code",
      "metadata": {
        "id": "uFHQUBf8CuHW"
      },
      "source": [
        "Boolean Operations are simple arithmetic of True and False values. These values can be manipulated by the use of boolean operators which include \n",
        "AND, Or, and NOT."
      ],
      "execution_count": null,
      "outputs": []
    },
    {
      "cell_type": "markdown",
      "metadata": {
        "id": "0pJAs6HR-hRo"
      },
      "source": [
        "##3. Make a list of each Boolean operator's truth tables (i.e. every possible combination of Boolean values for the operator and what it evaluate )."
      ]
    },
    {
      "cell_type": "code",
      "metadata": {
        "id": "j-M-txA-DVca"
      },
      "source": [
        "# AND Operator\n",
        "1 1 true\n",
        "1 0 false\n",
        "0 1 false\n",
        "0 0 false\n",
        "\n",
        "# OR operator\n",
        "1 1 true\n",
        "1 0 true\n",
        "0 1 true\n",
        "0 0 false\n",
        "\n",
        "# NOT Operator\n",
        "X               NOT X\n",
        "\n",
        "true            false\n",
        "false           true"
      ],
      "execution_count": null,
      "outputs": []
    },
    {
      "cell_type": "markdown",
      "metadata": {
        "id": "2DvY3OgN-l5b"
      },
      "source": [
        "##4. What are the values of the following expressions?\n",
        "(5 > 4) and (3 == 5)\n",
        "\n",
        "not (5 > 4)\n",
        "\n",
        "(5 > 4) or (3 == 5)\n",
        "\n",
        "not ((5 > 4) or (3 == 5))\n",
        "\n",
        "(True and True) and (True == False)\n",
        "\n",
        "(not False) or (not True)\n"
      ]
    },
    {
      "cell_type": "code",
      "metadata": {
        "id": "orok9MoYFW7d"
      },
      "source": [
        "(5 > 4) and (3 == 5) # false\n",
        "\n",
        "not (5 > 4) # false\n",
        "\n",
        "(5 > 4) or (3 == 5) # true\n",
        "\n",
        "not ((5 > 4) or (3 == 5)) # false\n",
        "\n",
        "(True and True) and (True == False) # false\n",
        "\n",
        "(not False) or (not True) # true"
      ],
      "execution_count": null,
      "outputs": []
    },
    {
      "cell_type": "markdown",
      "metadata": {
        "id": "Dd68rguW-pg8"
      },
      "source": [
        "##5. What are the six comparison operators?"
      ]
    },
    {
      "cell_type": "code",
      "metadata": {
        "id": "m4nVIsWIGxVC"
      },
      "source": [
        "== EQUAL TO\n",
        "<= LESS EQUAL TO\n",
        ">= GREATER EQUAL TO\n",
        "< LESSER THAN\n",
        "> GREATER THAN\n",
        "!= NOT EQUAL TO"
      ],
      "execution_count": null,
      "outputs": []
    },
    {
      "cell_type": "markdown",
      "metadata": {
        "id": "hqnwb2z5--vT"
      },
      "source": [
        "##6. How do you tell the difference between the equal to and assignment operators?Describe a condition and when you would use one."
      ]
    },
    {
      "cell_type": "code",
      "metadata": {
        "id": "i2Glxgi-IQZU"
      },
      "source": [
        "Assignment Operator: It assign a value to a variable.\n",
        "eg. var = 10\n",
        "\n",
        "Equal to(==): it is a comperison operator, which finds whether the condition is correct or not\n",
        "eg. var = 20\n",
        "    if var == 20:\n",
        "      print(\"That is correct\")\n",
        "# here var == 20 checks that is var (variable) is 20 or not."
      ],
      "execution_count": null,
      "outputs": []
    },
    {
      "cell_type": "markdown",
      "metadata": {
        "id": "LjggFq-6_CPF"
      },
      "source": [
        "##7. Identify the three blocks in this code:\n",
        "spam = 0\n",
        "\n",
        "if spam == 10:\n",
        "\n",
        "print('eggs')\n",
        "\n",
        "if spam > 5:\n",
        "\n",
        "print('bacon')\n",
        "\n",
        "else:\n",
        "\n",
        "print('ham')\n",
        "\n",
        "print('spam')\n",
        "\n",
        "print('spam')\n"
      ]
    },
    {
      "cell_type": "code",
      "metadata": {
        "id": "Bq1Y_L8cQD_Q"
      },
      "source": [
        "# Indentation was wrong in assignment question I think. I make it like this.\n",
        "spam = 0\n",
        "if spam == 10:\n",
        "    print('eggs')        # indent increased, block A\n",
        "    if spam > 5:         # still block A\n",
        "        print('bacon')   # still block A, indent increased, block B inside block A\n",
        "    else:                # still block A, indent decreased, block B ended in line above\n",
        "        print('ham')     # still block A, indent increased, block C inside block A\n",
        "    print('spam')        # still block A, indent decreased, block C ended in line above\n",
        "print('spam')            # indent decreased, block A ended in line above"
      ],
      "execution_count": null,
      "outputs": []
    },
    {
      "cell_type": "markdown",
      "metadata": {
        "id": "pik2SxT0_OMd"
      },
      "source": [
        "##8. Write code that prints Hello if 1 is stored in spam, prints Howdy if 2 is stored in spam, and prints Greetings! if anything else is stored in spam.\n",
        "\n"
      ]
    },
    {
      "cell_type": "code",
      "metadata": {
        "colab": {
          "base_uri": "https://localhost:8080/"
        },
        "id": "5hFS_Qfu_T3a",
        "outputId": "556f46d7-009e-462d-b01e-8895aee548d5"
      },
      "source": [
        "spam = input(\"Enter The Value Of Spam:\")\n",
        "if spam == '1':\n",
        "  print(\"hello\")\n",
        "elif spam == '2':\n",
        "  print(\"Howdy\")\n",
        "else:\n",
        "  print(\"Greetings!\")"
      ],
      "execution_count": 12,
      "outputs": [
        {
          "output_type": "stream",
          "text": [
            "Enter The Value Of Spam:4\n",
            "Greetings!\n"
          ],
          "name": "stdout"
        }
      ]
    },
    {
      "cell_type": "markdown",
      "metadata": {
        "id": "ydoplbY6Ud0P"
      },
      "source": [
        "##END"
      ]
    }
  ]
}